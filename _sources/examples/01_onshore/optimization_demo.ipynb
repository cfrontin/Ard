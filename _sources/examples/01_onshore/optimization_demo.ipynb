{
 "cells": [
  {
   "cell_type": "markdown",
   "id": "0a8540f7",
   "metadata": {},
   "source": [
    "# 01: Onshore layout-to-LCOE\n",
    "\n",
    "In this example, we will demonstrate `Ard`'s ability to run a layout-to-LCOE analysis and optimization.\n",
    "\n",
    "We can start by loading what we need to run the problem."
   ]
  },
  {
   "cell_type": "code",
   "execution_count": 1,
   "id": "d75b4457",
   "metadata": {},
   "outputs": [
    {
     "name": "stderr",
     "output_type": "stream",
     "text": [
      "RuntimeWarning: <frozen importlib._bootstrap>:488\n",
      "numpy.ndarray size changed, may indicate binary incompatibility. Expected 16 from C header, got 96 from PyObject"
     ]
    }
   ],
   "source": [
    "from pathlib import Path  # optional, for nice path specifications\n",
    "\n",
    "import pprint as pp  # optional, for nice printing\n",
    "import numpy as np  # numerics library\n",
    "import matplotlib.pyplot as plt  # plotting capabilities\n",
    "\n",
    "import ard  # technically we only really need this\n",
    "from ard.utils.io import load_yaml  # we grab a yaml loader here\n",
    "from ard.api import set_up_ard_model  # the secret sauce\n",
    "from ard.viz.layout import plot_layout  # a plotting tool!\n",
    "\n",
    "import openmdao.api as om  # for N2 diagrams from the OpenMDAO backend\n",
    "\n",
    "%matplotlib inline"
   ]
  },
  {
   "cell_type": "markdown",
   "id": "cf2ceef4",
   "metadata": {},
   "source": [
    "This will do for now.\n",
    "We can probably make it a bit cleaner for a later release.\n",
    "\n",
    "Now, we can set up a case.\n",
    "We do it a little verbosely so that our documentation system can grab it, you can generally just use relative paths.\n",
    "We grab the file at `inputs/ard_system.yaml`, which describes the `Ard` system for this problem.\n",
    "It references, in turn, the `inputs/windio.yaml` file, which is where we define the plant we want to optimize, and an initial setup for it."
   ]
  },
  {
   "cell_type": "code",
   "execution_count": null,
   "id": "29850609",
   "metadata": {},
   "outputs": [
    {
     "name": "stderr",
     "output_type": "stream",
     "text": [
      "\u001b[34mfloris.floris_model.FlorisModel\u001b[0m \u001b[1;30mWARNING\u001b[0m \u001b[33mturbine_type has been changed without specifying a new reference_wind_height. reference_wind_height remains 90.00 m. Consider calling `FlorisModel.assign_hub_height_to_ref_height` to update the reference wind height to the turbine hub height.\u001b[0m\n"
     ]
    },
    {
     "name": "stdout",
     "output_type": "stream",
     "text": [
      "Adding top_level\n",
      "Adding layout2aep\n",
      "Adding layout to layout2aep\n",
      "Adding aepFLORIS to layout2aep\n",
      "\tActivating approximate totals on layout2aep\n",
      "Adding boundary\n",
      "Adding landuse\n",
      "Adding collection\n",
      "Adding spacing_constraint\n",
      "Adding tcc\n",
      "Adding landbosse\n",
      "Adding opex\n",
      "Adding financese\n"
     ]
    }
   ],
   "source": [
    "# load input\n",
    "path_inputs = Path.cwd().absolute() / \"inputs\"\n",
    "input_dict = load_yaml(path_inputs / \"ard_system.yaml\")\n",
    "\n",
    "# create and setup system\n",
    "prob = set_up_ard_model(input_dict=input_dict, root_data_path=path_inputs)"
   ]
  },
  {
   "cell_type": "markdown",
   "id": "b0732705",
   "metadata": {},
   "source": [
    "Here, you should see each of the groups or components described as they are added to the `Ard` model and, occasionally, some options being turned on on them, like semi-total finite differencing on groups.\n",
    "\n",
    "Next is some code you can flip on to use the [N2 diagram vizualization tools from the backend toolset, OpenMDAO, that we use](https://openmdao.org/newdocs/versions/latest/features/model_visualization/n2_basics/n2_basics.html).\n",
    "This can be a really handy debugging tool, if somewhat tricky to use; turned on it will show a comprehensive view of the system in terms of its components, variables, and connections, although we leave it off for now."
   ]
  },
  {
   "cell_type": "code",
   "execution_count": 3,
   "id": "aa48878e",
   "metadata": {},
   "outputs": [],
   "source": [
    "if False:\n",
    "    # visualize model\n",
    "    om.n2(prob)"
   ]
  },
  {
   "cell_type": "markdown",
   "id": "723f8210",
   "metadata": {},
   "source": [
    "Now, we do a one-shot analysis.\n",
    "The one-shot analysis will run a wind farm as specified in `inputs/windio.yaml` and with the models specified in `inputs/ard_system.yaml`, then dump the outputs."
   ]
  },
  {
   "cell_type": "code",
   "execution_count": 4,
   "id": "b74f9d45",
   "metadata": {},
   "outputs": [
    {
     "name": "stderr",
     "output_type": "stream",
     "text": [
      "/Users/cfrontin/miniforge3/envs/ard-dev-env/lib/python3.12/site-packages/openmdao/recorders/sqlite_recorder.py:231: UserWarning:The existing case recorder file, ard_prob_out/problem_out/cases.sql, is being overwritten.\n",
      "RuntimeWarning: /Users/cfrontin/miniforge3/envs/ard-dev-env/lib/python3.12/site-packages/floris/core/wake_deflection/gauss.py:328\n",
      "invalid value encountered in divideRuntimeWarning: /Users/cfrontin/miniforge3/envs/ard-dev-env/lib/python3.12/site-packages/floris/core/wake_deflection/gauss.py:163\n",
      "invalid value encountered in divideRuntimeWarning: /Users/cfrontin/miniforge3/envs/ard-dev-env/lib/python3.12/site-packages/floris/core/wake_velocity/gauss.py:80\n",
      "invalid value encountered in divide"
     ]
    },
    {
     "name": "stdout",
     "output_type": "stream",
     "text": [
      "\n",
      "\n",
      "RESULTS:\n",
      "\n",
      "{'AEP_val': 405.9510682648514,\n",
      " 'BOS_val': 41.68227106807093,\n",
      " 'CapEx_val': 110.5,\n",
      " 'LCOE_val': 37.328810082644566,\n",
      " 'OpEx_val': 3.7400000000000007,\n",
      " 'area_tight': 13.2496,\n",
      " 'coll_length': 21.89865877023397,\n",
      " 'turbine_spacing': 0.91}\n",
      "\n",
      "\n",
      "\n"
     ]
    }
   ],
   "source": [
    "# run the model\n",
    "prob.run_model()\n",
    "\n",
    "# collapse the test result data\n",
    "test_data = {\n",
    "    \"AEP_val\": float(prob.get_val(\"AEP_farm\", units=\"GW*h\")[0]),\n",
    "    \"CapEx_val\": float(prob.get_val(\"tcc.tcc\", units=\"MUSD\")[0]),\n",
    "    \"BOS_val\": float(prob.get_val(\"landbosse.total_capex\", units=\"MUSD\")[0]),\n",
    "    \"OpEx_val\": float(prob.get_val(\"opex.opex\", units=\"MUSD/yr\")[0]),\n",
    "    \"LCOE_val\": float(prob.get_val(\"financese.lcoe\", units=\"USD/MW/h\")[0]),\n",
    "    \"area_tight\": float(prob.get_val(\"landuse.area_tight\", units=\"km**2\")[0]),\n",
    "    \"coll_length\": float(prob.get_val(\"collection.total_length_cables\", units=\"km\")[0]),\n",
    "    \"turbine_spacing\": float(\n",
    "        np.min(prob.get_val(\"spacing_constraint.turbine_spacing\", units=\"km\"))\n",
    "    ),\n",
    "}\n",
    "\n",
    "print(\"\\n\\nRESULTS:\\n\")\n",
    "pp.pprint(test_data)\n",
    "print(\"\\n\\n\")"
   ]
  },
  {
   "cell_type": "markdown",
   "id": "b3085438",
   "metadata": {},
   "source": [
    "Now, we can optimize the same problem!\n",
    "The optimization details are set under the `analysis_options` header in `inputs/ard_system.yaml`.\n",
    "Here, we use a four-dimensional rectilinear layout parameterization ($\\theta$) as design variables, constrain the farm such that the turbines are in the boundaries and satisfactorily spaced, and then we optimize for LCOE.\n",
    "$$\n",
    "\\begin{aligned}\n",
    "\\textrm{minimize}_\\theta \\quad & \\mathrm{LCOE}(\\theta, \\ldots) \\\\\n",
    "\\textrm{subject to} \\quad & f_{\\mathrm{spacing}}(\\theta, \\ldots) < 0 \\\\\n",
    "                          & f_{\\mathrm{boundary}}(\\theta, \\ldots) < 0\n",
    "\\end{aligned}\n",
    "$$"
   ]
  },
  {
   "cell_type": "code",
   "execution_count": 5,
   "id": "b0009663",
   "metadata": {},
   "outputs": [
    {
     "name": "stdout",
     "output_type": "stream",
     "text": [
      "Driver debug print for iter coord: rank0:ScipyOptimize_COBYLA|0\n",
      "---------------------------------------------------------------\n",
      "Design Vars\n",
      "{'angle_orientation': array([0.]),\n",
      " 'angle_skew': array([0.]),\n",
      " 'spacing_primary': array([7.]),\n",
      " 'spacing_secondary': array([7.])}\n",
      "\n"
     ]
    },
    {
     "name": "stderr",
     "output_type": "stream",
     "text": [
      "RuntimeWarning: /Users/cfrontin/miniforge3/envs/ard-dev-env/lib/python3.12/site-packages/floris/core/wake_deflection/gauss.py:328\n",
      "invalid value encountered in divideRuntimeWarning: /Users/cfrontin/miniforge3/envs/ard-dev-env/lib/python3.12/site-packages/floris/core/wake_deflection/gauss.py:163\n",
      "invalid value encountered in divideRuntimeWarning: /Users/cfrontin/miniforge3/envs/ard-dev-env/lib/python3.12/site-packages/floris/core/wake_velocity/gauss.py:80\n",
      "invalid value encountered in divide"
     ]
    },
    {
     "name": "stdout",
     "output_type": "stream",
     "text": [
      "Objectives\n",
      "{'financese.lcoe': array([0.03732881])}\n",
      "\n",
      "Driver debug print for iter coord: rank0:ScipyOptimize_COBYLA|1\n",
      "---------------------------------------------------------------\n",
      "Design Vars\n",
      "{'angle_orientation': array([0.]),\n",
      " 'angle_skew': array([0.]),\n",
      " 'spacing_primary': array([7.]),\n",
      " 'spacing_secondary': array([7.])}\n",
      "\n"
     ]
    },
    {
     "name": "stderr",
     "output_type": "stream",
     "text": [
      "RuntimeWarning: /Users/cfrontin/miniforge3/envs/ard-dev-env/lib/python3.12/site-packages/floris/core/wake_deflection/gauss.py:328\n",
      "invalid value encountered in divideRuntimeWarning: /Users/cfrontin/miniforge3/envs/ard-dev-env/lib/python3.12/site-packages/floris/core/wake_deflection/gauss.py:163\n",
      "invalid value encountered in divideRuntimeWarning: /Users/cfrontin/miniforge3/envs/ard-dev-env/lib/python3.12/site-packages/floris/core/wake_velocity/gauss.py:80\n",
      "invalid value encountered in divide"
     ]
    },
    {
     "name": "stdout",
     "output_type": "stream",
     "text": [
      "Objectives\n",
      "{'financese.lcoe': array([0.03732881])}\n",
      "\n",
      "Driver debug print for iter coord: rank0:ScipyOptimize_COBYLA|2\n",
      "---------------------------------------------------------------\n",
      "Design Vars\n",
      "{'angle_orientation': array([0.]),\n",
      " 'angle_skew': array([0.]),\n",
      " 'spacing_primary': array([9.]),\n",
      " 'spacing_secondary': array([7.])}\n",
      "\n"
     ]
    },
    {
     "name": "stderr",
     "output_type": "stream",
     "text": [
      "RuntimeWarning: /Users/cfrontin/miniforge3/envs/ard-dev-env/lib/python3.12/site-packages/floris/core/wake_deflection/gauss.py:328\n",
      "invalid value encountered in divideRuntimeWarning: /Users/cfrontin/miniforge3/envs/ard-dev-env/lib/python3.12/site-packages/floris/core/wake_deflection/gauss.py:163\n",
      "invalid value encountered in divideRuntimeWarning: /Users/cfrontin/miniforge3/envs/ard-dev-env/lib/python3.12/site-packages/floris/core/wake_velocity/gauss.py:80\n",
      "invalid value encountered in divide"
     ]
    },
    {
     "name": "stdout",
     "output_type": "stream",
     "text": [
      "Objectives\n",
      "{'financese.lcoe': array([0.03630168])}\n",
      "\n",
      "Driver debug print for iter coord: rank0:ScipyOptimize_COBYLA|3\n",
      "---------------------------------------------------------------\n",
      "Design Vars\n",
      "{'angle_orientation': array([0.]),\n",
      " 'angle_skew': array([0.]),\n",
      " 'spacing_primary': array([9.]),\n",
      " 'spacing_secondary': array([9.])}\n",
      "\n"
     ]
    },
    {
     "name": "stderr",
     "output_type": "stream",
     "text": [
      "RuntimeWarning: /Users/cfrontin/miniforge3/envs/ard-dev-env/lib/python3.12/site-packages/floris/core/wake_deflection/gauss.py:328\n",
      "invalid value encountered in divideRuntimeWarning: /Users/cfrontin/miniforge3/envs/ard-dev-env/lib/python3.12/site-packages/floris/core/wake_deflection/gauss.py:163\n",
      "invalid value encountered in divideRuntimeWarning: /Users/cfrontin/miniforge3/envs/ard-dev-env/lib/python3.12/site-packages/floris/core/wake_velocity/gauss.py:80\n",
      "invalid value encountered in divide"
     ]
    },
    {
     "name": "stdout",
     "output_type": "stream",
     "text": [
      "Objectives\n",
      "{'financese.lcoe': array([0.0362278])}\n",
      "\n",
      "Driver debug print for iter coord: rank0:ScipyOptimize_COBYLA|4\n",
      "---------------------------------------------------------------\n",
      "Design Vars\n",
      "{'angle_orientation': array([2.]),\n",
      " 'angle_skew': array([0.]),\n",
      " 'spacing_primary': array([9.]),\n",
      " 'spacing_secondary': array([9.])}\n",
      "\n"
     ]
    },
    {
     "name": "stderr",
     "output_type": "stream",
     "text": [
      "RuntimeWarning: /Users/cfrontin/miniforge3/envs/ard-dev-env/lib/python3.12/site-packages/floris/core/wake_deflection/gauss.py:328\n",
      "invalid value encountered in divideRuntimeWarning: /Users/cfrontin/miniforge3/envs/ard-dev-env/lib/python3.12/site-packages/floris/core/wake_deflection/gauss.py:163\n",
      "invalid value encountered in divideRuntimeWarning: /Users/cfrontin/miniforge3/envs/ard-dev-env/lib/python3.12/site-packages/floris/core/wake_velocity/gauss.py:80\n",
      "invalid value encountered in divide"
     ]
    },
    {
     "name": "stdout",
     "output_type": "stream",
     "text": [
      "Objectives\n",
      "{'financese.lcoe': array([0.03589558])}\n",
      "\n",
      "Driver debug print for iter coord: rank0:ScipyOptimize_COBYLA|5\n",
      "---------------------------------------------------------------\n",
      "Design Vars\n",
      "{'angle_orientation': array([2.]),\n",
      " 'angle_skew': array([2.]),\n",
      " 'spacing_primary': array([9.]),\n",
      " 'spacing_secondary': array([9.])}\n",
      "\n"
     ]
    },
    {
     "name": "stderr",
     "output_type": "stream",
     "text": [
      "RuntimeWarning: /Users/cfrontin/miniforge3/envs/ard-dev-env/lib/python3.12/site-packages/floris/core/wake_deflection/gauss.py:328\n",
      "invalid value encountered in divideRuntimeWarning: /Users/cfrontin/miniforge3/envs/ard-dev-env/lib/python3.12/site-packages/floris/core/wake_deflection/gauss.py:163\n",
      "invalid value encountered in divideRuntimeWarning: /Users/cfrontin/miniforge3/envs/ard-dev-env/lib/python3.12/site-packages/floris/core/wake_velocity/gauss.py:80\n",
      "invalid value encountered in divide"
     ]
    },
    {
     "name": "stdout",
     "output_type": "stream",
     "text": [
      "Objectives\n",
      "{'financese.lcoe': array([0.03576731])}\n",
      "\n",
      "Driver debug print for iter coord: rank0:ScipyOptimize_COBYLA|6\n",
      "---------------------------------------------------------------\n",
      "Design Vars\n",
      "{'angle_orientation': array([2.86507341]),\n",
      " 'angle_skew': array([0.06342541]),\n",
      " 'spacing_primary': array([9.88412296]),\n",
      " 'spacing_secondary': array([7.42966507])}\n",
      "\n"
     ]
    },
    {
     "name": "stderr",
     "output_type": "stream",
     "text": [
      "RuntimeWarning: /Users/cfrontin/miniforge3/envs/ard-dev-env/lib/python3.12/site-packages/floris/core/wake_deflection/gauss.py:328\n",
      "invalid value encountered in divideRuntimeWarning: /Users/cfrontin/miniforge3/envs/ard-dev-env/lib/python3.12/site-packages/floris/core/wake_deflection/gauss.py:163\n",
      "invalid value encountered in divideRuntimeWarning: /Users/cfrontin/miniforge3/envs/ard-dev-env/lib/python3.12/site-packages/floris/core/wake_velocity/gauss.py:80\n",
      "invalid value encountered in divide"
     ]
    },
    {
     "name": "stdout",
     "output_type": "stream",
     "text": [
      "Objectives\n",
      "{'financese.lcoe': array([0.03536135])}\n",
      "\n",
      "Driver debug print for iter coord: rank0:ScipyOptimize_COBYLA|7\n",
      "---------------------------------------------------------------\n",
      "Design Vars\n",
      "{'angle_orientation': array([6.22440279]),\n",
      " 'angle_skew': array([1.28942792]),\n",
      " 'spacing_primary': array([11.09600928]),\n",
      " 'spacing_secondary': array([6.10937891])}\n",
      "\n"
     ]
    },
    {
     "name": "stderr",
     "output_type": "stream",
     "text": [
      "RuntimeWarning: /Users/cfrontin/miniforge3/envs/ard-dev-env/lib/python3.12/site-packages/floris/core/wake_deflection/gauss.py:328\n",
      "invalid value encountered in divideRuntimeWarning: /Users/cfrontin/miniforge3/envs/ard-dev-env/lib/python3.12/site-packages/floris/core/wake_deflection/gauss.py:163\n",
      "invalid value encountered in divideRuntimeWarning: /Users/cfrontin/miniforge3/envs/ard-dev-env/lib/python3.12/site-packages/floris/core/wake_deflection/gauss.py:498\n",
      "invalid value encountered in divideRuntimeWarning: /Users/cfrontin/miniforge3/envs/ard-dev-env/lib/python3.12/site-packages/floris/core/wake_velocity/gauss.py:80\n",
      "invalid value encountered in divide"
     ]
    },
    {
     "name": "stdout",
     "output_type": "stream",
     "text": [
      "Objectives\n",
      "{'financese.lcoe': array([0.03370838])}\n",
      "\n",
      "Driver debug print for iter coord: rank0:ScipyOptimize_COBYLA|8\n",
      "---------------------------------------------------------------\n",
      "Design Vars\n",
      "{'angle_orientation': array([12.81065072]),\n",
      " 'angle_skew': array([5.41443477]),\n",
      " 'spacing_primary': array([10.77869556]),\n",
      " 'spacing_secondary': array([4.23722274])}\n",
      "\n"
     ]
    },
    {
     "name": "stderr",
     "output_type": "stream",
     "text": [
      "RuntimeWarning: /Users/cfrontin/miniforge3/envs/ard-dev-env/lib/python3.12/site-packages/floris/core/wake_deflection/gauss.py:328\n",
      "invalid value encountered in divideRuntimeWarning: /Users/cfrontin/miniforge3/envs/ard-dev-env/lib/python3.12/site-packages/floris/core/wake_deflection/gauss.py:163\n",
      "invalid value encountered in divideRuntimeWarning: /Users/cfrontin/miniforge3/envs/ard-dev-env/lib/python3.12/site-packages/floris/core/wake_velocity/gauss.py:80\n",
      "invalid value encountered in divide"
     ]
    },
    {
     "name": "stdout",
     "output_type": "stream",
     "text": [
      "Objectives\n",
      "{'financese.lcoe': array([0.03370143])}\n",
      "\n",
      "Driver debug print for iter coord: rank0:ScipyOptimize_COBYLA|9\n",
      "---------------------------------------------------------------\n",
      "Design Vars\n",
      "{'angle_orientation': array([4.28310721]),\n",
      " 'angle_skew': array([4.24611554]),\n",
      " 'spacing_primary': array([11.15159215]),\n",
      " 'spacing_secondary': array([4.24222055])}\n",
      "\n"
     ]
    },
    {
     "name": "stderr",
     "output_type": "stream",
     "text": [
      "RuntimeWarning: /Users/cfrontin/miniforge3/envs/ard-dev-env/lib/python3.12/site-packages/floris/core/wake_deflection/gauss.py:328\n",
      "invalid value encountered in divideRuntimeWarning: /Users/cfrontin/miniforge3/envs/ard-dev-env/lib/python3.12/site-packages/floris/core/wake_deflection/gauss.py:163\n",
      "invalid value encountered in divideRuntimeWarning: /Users/cfrontin/miniforge3/envs/ard-dev-env/lib/python3.12/site-packages/floris/core/wake_velocity/gauss.py:80\n",
      "invalid value encountered in divide"
     ]
    },
    {
     "name": "stdout",
     "output_type": "stream",
     "text": [
      "Objectives\n",
      "{'financese.lcoe': array([0.03451831])}\n",
      "\n",
      "Driver debug print for iter coord: rank0:ScipyOptimize_COBYLA|10\n",
      "----------------------------------------------------------------\n",
      "Design Vars\n",
      "{'angle_orientation': array([6.00666884]),\n",
      " 'angle_skew': array([1.33986207]),\n",
      " 'spacing_primary': array([12.01188114]),\n",
      " 'spacing_secondary': array([6.44288611])}\n",
      "\n"
     ]
    },
    {
     "name": "stderr",
     "output_type": "stream",
     "text": [
      "RuntimeWarning: /Users/cfrontin/miniforge3/envs/ard-dev-env/lib/python3.12/site-packages/floris/core/wake_deflection/gauss.py:328\n",
      "invalid value encountered in divideRuntimeWarning: /Users/cfrontin/miniforge3/envs/ard-dev-env/lib/python3.12/site-packages/floris/core/wake_deflection/gauss.py:163\n",
      "invalid value encountered in divideRuntimeWarning: /Users/cfrontin/miniforge3/envs/ard-dev-env/lib/python3.12/site-packages/floris/core/wake_velocity/gauss.py:80\n",
      "invalid value encountered in divide"
     ]
    },
    {
     "name": "stdout",
     "output_type": "stream",
     "text": [
      "Objectives\n",
      "{'financese.lcoe': array([0.03373368])}\n",
      "\n",
      "Driver debug print for iter coord: rank0:ScipyOptimize_COBYLA|11\n",
      "----------------------------------------------------------------\n",
      "Design Vars\n",
      "{'angle_orientation': array([8.20718925]),\n",
      " 'angle_skew': array([1.26618807]),\n",
      " 'spacing_primary': array([11.04995437]),\n",
      " 'spacing_secondary': array([5.85267537])}\n",
      "\n"
     ]
    },
    {
     "name": "stderr",
     "output_type": "stream",
     "text": [
      "RuntimeWarning: /Users/cfrontin/miniforge3/envs/ard-dev-env/lib/python3.12/site-packages/floris/core/wake_deflection/gauss.py:328\n",
      "invalid value encountered in divideRuntimeWarning: /Users/cfrontin/miniforge3/envs/ard-dev-env/lib/python3.12/site-packages/floris/core/wake_deflection/gauss.py:163\n",
      "invalid value encountered in divideRuntimeWarning: /Users/cfrontin/miniforge3/envs/ard-dev-env/lib/python3.12/site-packages/floris/core/wake_deflection/gauss.py:498\n",
      "invalid value encountered in divideRuntimeWarning: /Users/cfrontin/miniforge3/envs/ard-dev-env/lib/python3.12/site-packages/floris/core/wake_velocity/gauss.py:80\n",
      "invalid value encountered in divide"
     ]
    },
    {
     "name": "stdout",
     "output_type": "stream",
     "text": [
      "Objectives\n",
      "{'financese.lcoe': array([0.03352562])}\n",
      "\n",
      "Driver debug print for iter coord: rank0:ScipyOptimize_COBYLA|12\n",
      "----------------------------------------------------------------\n",
      "Design Vars\n",
      "{'angle_orientation': array([8.30827026]),\n",
      " 'angle_skew': array([-0.28110214]),\n",
      " 'spacing_primary': array([11.21647279]),\n",
      " 'spacing_secondary': array([4.60049836])}\n",
      "\n"
     ]
    },
    {
     "name": "stderr",
     "output_type": "stream",
     "text": [
      "RuntimeWarning: /Users/cfrontin/miniforge3/envs/ard-dev-env/lib/python3.12/site-packages/floris/core/wake_deflection/gauss.py:328\n",
      "invalid value encountered in divideRuntimeWarning: /Users/cfrontin/miniforge3/envs/ard-dev-env/lib/python3.12/site-packages/floris/core/wake_deflection/gauss.py:163\n",
      "invalid value encountered in divideRuntimeWarning: /Users/cfrontin/miniforge3/envs/ard-dev-env/lib/python3.12/site-packages/floris/core/wake_velocity/gauss.py:80\n",
      "invalid value encountered in divide"
     ]
    },
    {
     "name": "stdout",
     "output_type": "stream",
     "text": [
      "Objectives\n",
      "{'financese.lcoe': array([0.03470472])}\n",
      "\n",
      "Driver debug print for iter coord: rank0:ScipyOptimize_COBYLA|13\n",
      "----------------------------------------------------------------\n",
      "Design Vars\n",
      "{'angle_orientation': array([8.29155102]),\n",
      " 'angle_skew': array([0.64372952]),\n",
      " 'spacing_primary': array([10.8322654]),\n",
      " 'spacing_secondary': array([6.59969609])}\n",
      "\n"
     ]
    },
    {
     "name": "stderr",
     "output_type": "stream",
     "text": [
      "RuntimeWarning: /Users/cfrontin/miniforge3/envs/ard-dev-env/lib/python3.12/site-packages/floris/core/wake_deflection/gauss.py:328\n",
      "invalid value encountered in divideRuntimeWarning: /Users/cfrontin/miniforge3/envs/ard-dev-env/lib/python3.12/site-packages/floris/core/wake_deflection/gauss.py:163\n",
      "invalid value encountered in divideRuntimeWarning: /Users/cfrontin/miniforge3/envs/ard-dev-env/lib/python3.12/site-packages/floris/core/wake_velocity/gauss.py:80\n",
      "invalid value encountered in divide"
     ]
    },
    {
     "name": "stdout",
     "output_type": "stream",
     "text": [
      "Objectives\n",
      "{'financese.lcoe': array([0.03362597])}\n",
      "\n",
      "Driver debug print for iter coord: rank0:ScipyOptimize_COBYLA|14\n",
      "----------------------------------------------------------------\n",
      "Design Vars\n",
      "{'angle_orientation': array([8.59086432]),\n",
      " 'angle_skew': array([2.93175261]),\n",
      " 'spacing_primary': array([10.37471801]),\n",
      " 'spacing_secondary': array([6.64181672])}\n",
      "\n"
     ]
    },
    {
     "name": "stderr",
     "output_type": "stream",
     "text": [
      "RuntimeWarning: /Users/cfrontin/miniforge3/envs/ard-dev-env/lib/python3.12/site-packages/floris/core/wake_deflection/gauss.py:328\n",
      "invalid value encountered in divideRuntimeWarning: /Users/cfrontin/miniforge3/envs/ard-dev-env/lib/python3.12/site-packages/floris/core/wake_deflection/gauss.py:163\n",
      "invalid value encountered in divideRuntimeWarning: /Users/cfrontin/miniforge3/envs/ard-dev-env/lib/python3.12/site-packages/floris/core/wake_velocity/gauss.py:80\n",
      "invalid value encountered in divide"
     ]
    },
    {
     "name": "stdout",
     "output_type": "stream",
     "text": [
      "Objectives\n",
      "{'financese.lcoe': array([0.03351144])}\n",
      "\n",
      "Driver debug print for iter coord: rank0:ScipyOptimize_COBYLA|15\n",
      "----------------------------------------------------------------\n",
      "Design Vars\n",
      "{'angle_orientation': array([9.75180855]),\n",
      " 'angle_skew': array([3.5743247]),\n",
      " 'spacing_primary': array([10.40303204]),\n",
      " 'spacing_secondary': array([5.14565233])}\n",
      "\n"
     ]
    },
    {
     "name": "stderr",
     "output_type": "stream",
     "text": [
      "RuntimeWarning: /Users/cfrontin/miniforge3/envs/ard-dev-env/lib/python3.12/site-packages/floris/core/wake_deflection/gauss.py:328\n",
      "invalid value encountered in divideRuntimeWarning: /Users/cfrontin/miniforge3/envs/ard-dev-env/lib/python3.12/site-packages/floris/core/wake_deflection/gauss.py:163\n",
      "invalid value encountered in divideRuntimeWarning: /Users/cfrontin/miniforge3/envs/ard-dev-env/lib/python3.12/site-packages/floris/core/wake_velocity/gauss.py:80\n",
      "invalid value encountered in divide"
     ]
    },
    {
     "name": "stdout",
     "output_type": "stream",
     "text": [
      "Objectives\n",
      "{'financese.lcoe': array([0.03362007])}\n",
      "\n",
      "Driver debug print for iter coord: rank0:ScipyOptimize_COBYLA|16\n",
      "----------------------------------------------------------------\n",
      "Design Vars\n",
      "{'angle_orientation': array([8.74175405]),\n",
      " 'angle_skew': array([3.20209382]),\n",
      " 'spacing_primary': array([9.87740784]),\n",
      " 'spacing_secondary': array([7.45226753])}\n",
      "\n"
     ]
    },
    {
     "name": "stderr",
     "output_type": "stream",
     "text": [
      "RuntimeWarning: /Users/cfrontin/miniforge3/envs/ard-dev-env/lib/python3.12/site-packages/floris/core/wake_deflection/gauss.py:328\n",
      "invalid value encountered in divideRuntimeWarning: /Users/cfrontin/miniforge3/envs/ard-dev-env/lib/python3.12/site-packages/floris/core/wake_deflection/gauss.py:163\n",
      "invalid value encountered in divideRuntimeWarning: /Users/cfrontin/miniforge3/envs/ard-dev-env/lib/python3.12/site-packages/floris/core/wake_velocity/gauss.py:80\n",
      "invalid value encountered in divide"
     ]
    },
    {
     "name": "stdout",
     "output_type": "stream",
     "text": [
      "Objectives\n",
      "{'financese.lcoe': array([0.03398983])}\n",
      "\n",
      "Driver debug print for iter coord: rank0:ScipyOptimize_COBYLA|17\n",
      "----------------------------------------------------------------\n",
      "Design Vars\n",
      "{'angle_orientation': array([8.69666884]),\n",
      " 'angle_skew': array([2.95678515]),\n",
      " 'spacing_primary': array([10.5780121]),\n",
      " 'spacing_secondary': array([6.73851361])}\n",
      "\n"
     ]
    },
    {
     "name": "stderr",
     "output_type": "stream",
     "text": [
      "RuntimeWarning: /Users/cfrontin/miniforge3/envs/ard-dev-env/lib/python3.12/site-packages/floris/core/wake_deflection/gauss.py:328\n",
      "invalid value encountered in divideRuntimeWarning: /Users/cfrontin/miniforge3/envs/ard-dev-env/lib/python3.12/site-packages/floris/core/wake_deflection/gauss.py:163\n",
      "invalid value encountered in divideRuntimeWarning: /Users/cfrontin/miniforge3/envs/ard-dev-env/lib/python3.12/site-packages/floris/core/wake_velocity/gauss.py:80\n",
      "invalid value encountered in divide"
     ]
    },
    {
     "name": "stdout",
     "output_type": "stream",
     "text": [
      "Objectives\n",
      "{'financese.lcoe': array([0.03350047])}\n",
      "\n",
      "Driver debug print for iter coord: rank0:ScipyOptimize_COBYLA|18\n",
      "----------------------------------------------------------------\n",
      "Design Vars\n",
      "{'angle_orientation': array([8.17818917]),\n",
      " 'angle_skew': array([3.05428928]),\n",
      " 'spacing_primary': array([10.45137129]),\n",
      " 'spacing_secondary': array([6.39931257])}\n",
      "\n"
     ]
    },
    {
     "name": "stderr",
     "output_type": "stream",
     "text": [
      "RuntimeWarning: /Users/cfrontin/miniforge3/envs/ard-dev-env/lib/python3.12/site-packages/floris/core/wake_deflection/gauss.py:328\n",
      "invalid value encountered in divideRuntimeWarning: /Users/cfrontin/miniforge3/envs/ard-dev-env/lib/python3.12/site-packages/floris/core/wake_deflection/gauss.py:163\n",
      "invalid value encountered in divideRuntimeWarning: /Users/cfrontin/miniforge3/envs/ard-dev-env/lib/python3.12/site-packages/floris/core/wake_velocity/gauss.py:80\n",
      "invalid value encountered in divide"
     ]
    },
    {
     "name": "stdout",
     "output_type": "stream",
     "text": [
      "Objectives\n",
      "{'financese.lcoe': array([0.033564])}\n",
      "\n",
      "Driver debug print for iter coord: rank0:ScipyOptimize_COBYLA|19\n",
      "----------------------------------------------------------------\n",
      "Design Vars\n",
      "{'angle_orientation': array([8.54548368]),\n",
      " 'angle_skew': array([2.85439181]),\n",
      " 'spacing_primary': array([10.38776205]),\n",
      " 'spacing_secondary': array([6.68407495])}\n",
      "\n"
     ]
    },
    {
     "name": "stderr",
     "output_type": "stream",
     "text": [
      "RuntimeWarning: /Users/cfrontin/miniforge3/envs/ard-dev-env/lib/python3.12/site-packages/floris/core/wake_deflection/gauss.py:328\n",
      "invalid value encountered in divideRuntimeWarning: /Users/cfrontin/miniforge3/envs/ard-dev-env/lib/python3.12/site-packages/floris/core/wake_deflection/gauss.py:163\n",
      "invalid value encountered in divideRuntimeWarning: /Users/cfrontin/miniforge3/envs/ard-dev-env/lib/python3.12/site-packages/floris/core/wake_velocity/gauss.py:80\n",
      "invalid value encountered in divide"
     ]
    },
    {
     "name": "stdout",
     "output_type": "stream",
     "text": [
      "Objectives\n",
      "{'financese.lcoe': array([0.03351661])}\n",
      "\n",
      "Driver debug print for iter coord: rank0:ScipyOptimize_COBYLA|20\n",
      "----------------------------------------------------------------\n",
      "Design Vars\n",
      "{'angle_orientation': array([8.68235437]),\n",
      " 'angle_skew': array([2.82528036]),\n",
      " 'spacing_primary': array([10.38236737]),\n",
      " 'spacing_secondary': array([6.49956794])}\n",
      "\n"
     ]
    },
    {
     "name": "stderr",
     "output_type": "stream",
     "text": [
      "RuntimeWarning: /Users/cfrontin/miniforge3/envs/ard-dev-env/lib/python3.12/site-packages/floris/core/wake_deflection/gauss.py:328\n",
      "invalid value encountered in divideRuntimeWarning: /Users/cfrontin/miniforge3/envs/ard-dev-env/lib/python3.12/site-packages/floris/core/wake_deflection/gauss.py:163\n",
      "invalid value encountered in divideRuntimeWarning: /Users/cfrontin/miniforge3/envs/ard-dev-env/lib/python3.12/site-packages/floris/core/wake_velocity/gauss.py:80\n",
      "invalid value encountered in divide"
     ]
    },
    {
     "name": "stdout",
     "output_type": "stream",
     "text": [
      "Objectives\n",
      "{'financese.lcoe': array([0.03352674])}\n",
      "\n",
      "Driver debug print for iter coord: rank0:ScipyOptimize_COBYLA|21\n",
      "----------------------------------------------------------------\n",
      "Design Vars\n",
      "{'angle_orientation': array([8.6540565]),\n",
      " 'angle_skew': array([2.91346029]),\n",
      " 'spacing_primary': array([10.3196462]),\n",
      " 'spacing_secondary': array([6.69319021])}\n",
      "\n"
     ]
    },
    {
     "name": "stderr",
     "output_type": "stream",
     "text": [
      "RuntimeWarning: /Users/cfrontin/miniforge3/envs/ard-dev-env/lib/python3.12/site-packages/floris/core/wake_deflection/gauss.py:328\n",
      "invalid value encountered in divideRuntimeWarning: /Users/cfrontin/miniforge3/envs/ard-dev-env/lib/python3.12/site-packages/floris/core/wake_deflection/gauss.py:163\n",
      "invalid value encountered in divideRuntimeWarning: /Users/cfrontin/miniforge3/envs/ard-dev-env/lib/python3.12/site-packages/floris/core/wake_velocity/gauss.py:80\n",
      "invalid value encountered in divide"
     ]
    },
    {
     "name": "stdout",
     "output_type": "stream",
     "text": [
      "Objectives\n",
      "{'financese.lcoe': array([0.03351022])}\n",
      "\n",
      "Driver debug print for iter coord: rank0:ScipyOptimize_COBYLA|22\n",
      "----------------------------------------------------------------\n",
      "Design Vars\n",
      "{'angle_orientation': array([8.67575792]),\n",
      " 'angle_skew': array([3.08481535]),\n",
      " 'spacing_primary': array([10.2720701]),\n",
      " 'spacing_secondary': array([6.78208906])}\n",
      "\n"
     ]
    },
    {
     "name": "stderr",
     "output_type": "stream",
     "text": [
      "RuntimeWarning: /Users/cfrontin/miniforge3/envs/ard-dev-env/lib/python3.12/site-packages/floris/core/wake_deflection/gauss.py:328\n",
      "invalid value encountered in divideRuntimeWarning: /Users/cfrontin/miniforge3/envs/ard-dev-env/lib/python3.12/site-packages/floris/core/wake_deflection/gauss.py:163\n",
      "invalid value encountered in divideRuntimeWarning: /Users/cfrontin/miniforge3/envs/ard-dev-env/lib/python3.12/site-packages/floris/core/wake_velocity/gauss.py:80\n",
      "invalid value encountered in divide"
     ]
    },
    {
     "name": "stdout",
     "output_type": "stream",
     "text": [
      "Objectives\n",
      "{'financese.lcoe': array([0.03351441])}\n",
      "\n",
      "Driver debug print for iter coord: rank0:ScipyOptimize_COBYLA|23\n",
      "----------------------------------------------------------------\n",
      "Design Vars\n",
      "{'angle_orientation': array([8.84425874]),\n",
      " 'angle_skew': array([3.07310244]),\n",
      " 'spacing_primary': array([10.28009779]),\n",
      " 'spacing_secondary': array([6.67529094])}\n",
      "\n"
     ]
    },
    {
     "name": "stderr",
     "output_type": "stream",
     "text": [
      "RuntimeWarning: /Users/cfrontin/miniforge3/envs/ard-dev-env/lib/python3.12/site-packages/floris/core/wake_deflection/gauss.py:328\n",
      "invalid value encountered in divideRuntimeWarning: /Users/cfrontin/miniforge3/envs/ard-dev-env/lib/python3.12/site-packages/floris/core/wake_deflection/gauss.py:163\n",
      "invalid value encountered in divideRuntimeWarning: /Users/cfrontin/miniforge3/envs/ard-dev-env/lib/python3.12/site-packages/floris/core/wake_velocity/gauss.py:80\n",
      "invalid value encountered in divide"
     ]
    },
    {
     "name": "stdout",
     "output_type": "stream",
     "text": [
      "Objectives\n",
      "{'financese.lcoe': array([0.03349585])}\n",
      "\n",
      "Driver debug print for iter coord: rank0:ScipyOptimize_COBYLA|24\n",
      "----------------------------------------------------------------\n",
      "Design Vars\n",
      "{'angle_orientation': array([9.18352292]),\n",
      " 'angle_skew': array([3.04313706]),\n",
      " 'spacing_primary': array([10.29713614]),\n",
      " 'spacing_secondary': array([6.46621779])}\n",
      "\n"
     ]
    },
    {
     "name": "stderr",
     "output_type": "stream",
     "text": [
      "RuntimeWarning: /Users/cfrontin/miniforge3/envs/ard-dev-env/lib/python3.12/site-packages/floris/core/wake_deflection/gauss.py:328\n",
      "invalid value encountered in divideRuntimeWarning: /Users/cfrontin/miniforge3/envs/ard-dev-env/lib/python3.12/site-packages/floris/core/wake_deflection/gauss.py:163\n",
      "invalid value encountered in divideRuntimeWarning: /Users/cfrontin/miniforge3/envs/ard-dev-env/lib/python3.12/site-packages/floris/core/wake_velocity/gauss.py:80\n",
      "invalid value encountered in divide"
     ]
    },
    {
     "name": "stdout",
     "output_type": "stream",
     "text": [
      "Objectives\n",
      "{'financese.lcoe': array([0.03351251])}\n",
      "\n",
      "Driver debug print for iter coord: rank0:ScipyOptimize_COBYLA|25\n",
      "----------------------------------------------------------------\n",
      "Design Vars\n",
      "{'angle_orientation': array([8.84094657]),\n",
      " 'angle_skew': array([3.23775271]),\n",
      " 'spacing_primary': array([10.23836947]),\n",
      " 'spacing_secondary': array([6.78082797])}\n",
      "\n"
     ]
    },
    {
     "name": "stderr",
     "output_type": "stream",
     "text": [
      "RuntimeWarning: /Users/cfrontin/miniforge3/envs/ard-dev-env/lib/python3.12/site-packages/floris/core/wake_deflection/gauss.py:328\n",
      "invalid value encountered in divideRuntimeWarning: /Users/cfrontin/miniforge3/envs/ard-dev-env/lib/python3.12/site-packages/floris/core/wake_deflection/gauss.py:163\n",
      "invalid value encountered in divideRuntimeWarning: /Users/cfrontin/miniforge3/envs/ard-dev-env/lib/python3.12/site-packages/floris/core/wake_velocity/gauss.py:80\n",
      "invalid value encountered in divide"
     ]
    },
    {
     "name": "stdout",
     "output_type": "stream",
     "text": [
      "Objectives\n",
      "{'financese.lcoe': array([0.03350363])}\n",
      "\n",
      "Driver debug print for iter coord: rank0:ScipyOptimize_COBYLA|26\n",
      "----------------------------------------------------------------\n",
      "Design Vars\n",
      "{'angle_orientation': array([8.92780689]),\n",
      " 'angle_skew': array([3.06227062]),\n",
      " 'spacing_primary': array([10.28551011]),\n",
      " 'spacing_secondary': array([6.62168977])}\n",
      "\n"
     ]
    },
    {
     "name": "stderr",
     "output_type": "stream",
     "text": [
      "RuntimeWarning: /Users/cfrontin/miniforge3/envs/ard-dev-env/lib/python3.12/site-packages/floris/core/wake_deflection/gauss.py:328\n",
      "invalid value encountered in divideRuntimeWarning: /Users/cfrontin/miniforge3/envs/ard-dev-env/lib/python3.12/site-packages/floris/core/wake_deflection/gauss.py:163\n",
      "invalid value encountered in divideRuntimeWarning: /Users/cfrontin/miniforge3/envs/ard-dev-env/lib/python3.12/site-packages/floris/core/wake_velocity/gauss.py:80\n",
      "invalid value encountered in divide"
     ]
    },
    {
     "name": "stdout",
     "output_type": "stream",
     "text": [
      "Objectives\n",
      "{'financese.lcoe': array([0.03349405])}\n",
      "\n",
      "Driver debug print for iter coord: rank0:ScipyOptimize_COBYLA|27\n",
      "----------------------------------------------------------------\n",
      "Design Vars\n",
      "{'angle_orientation': array([8.96908323]),\n",
      " 'angle_skew': array([2.99969751]),\n",
      " 'spacing_primary': array([10.26251137]),\n",
      " 'spacing_secondary': array([6.68375367])}\n",
      "\n"
     ]
    },
    {
     "name": "stderr",
     "output_type": "stream",
     "text": [
      "RuntimeWarning: /Users/cfrontin/miniforge3/envs/ard-dev-env/lib/python3.12/site-packages/floris/core/wake_deflection/gauss.py:328\n",
      "invalid value encountered in divideRuntimeWarning: /Users/cfrontin/miniforge3/envs/ard-dev-env/lib/python3.12/site-packages/floris/core/wake_deflection/gauss.py:163\n",
      "invalid value encountered in divideRuntimeWarning: /Users/cfrontin/miniforge3/envs/ard-dev-env/lib/python3.12/site-packages/floris/core/wake_velocity/gauss.py:80\n",
      "invalid value encountered in divide"
     ]
    },
    {
     "name": "stdout",
     "output_type": "stream",
     "text": [
      "Objectives\n",
      "{'financese.lcoe': array([0.0334977])}\n",
      "\n",
      "Driver debug print for iter coord: rank0:ScipyOptimize_COBYLA|28\n",
      "----------------------------------------------------------------\n",
      "Design Vars\n",
      "{'angle_orientation': array([8.92431437]),\n",
      " 'angle_skew': array([3.06109607]),\n",
      " 'spacing_primary': array([10.26197456]),\n",
      " 'spacing_secondary': array([6.61410686])}\n",
      "\n"
     ]
    },
    {
     "name": "stderr",
     "output_type": "stream",
     "text": [
      "RuntimeWarning: /Users/cfrontin/miniforge3/envs/ard-dev-env/lib/python3.12/site-packages/floris/core/wake_deflection/gauss.py:328\n",
      "invalid value encountered in divideRuntimeWarning: /Users/cfrontin/miniforge3/envs/ard-dev-env/lib/python3.12/site-packages/floris/core/wake_deflection/gauss.py:163\n",
      "invalid value encountered in divideRuntimeWarning: /Users/cfrontin/miniforge3/envs/ard-dev-env/lib/python3.12/site-packages/floris/core/wake_velocity/gauss.py:80\n",
      "invalid value encountered in divide"
     ]
    },
    {
     "name": "stdout",
     "output_type": "stream",
     "text": [
      "Objectives\n",
      "{'financese.lcoe': array([0.03349462])}\n",
      "\n",
      "Driver debug print for iter coord: rank0:ScipyOptimize_COBYLA|29\n",
      "----------------------------------------------------------------\n",
      "Design Vars\n",
      "{'angle_orientation': array([8.91563967]),\n",
      " 'angle_skew': array([3.05174114]),\n",
      " 'spacing_primary': array([10.29746973]),\n",
      " 'spacing_secondary': array([6.57588523])}\n",
      "\n"
     ]
    },
    {
     "name": "stderr",
     "output_type": "stream",
     "text": [
      "RuntimeWarning: /Users/cfrontin/miniforge3/envs/ard-dev-env/lib/python3.12/site-packages/floris/core/wake_deflection/gauss.py:328\n",
      "invalid value encountered in divideRuntimeWarning: /Users/cfrontin/miniforge3/envs/ard-dev-env/lib/python3.12/site-packages/floris/core/wake_deflection/gauss.py:163\n",
      "invalid value encountered in divideRuntimeWarning: /Users/cfrontin/miniforge3/envs/ard-dev-env/lib/python3.12/site-packages/floris/core/wake_velocity/gauss.py:80\n",
      "invalid value encountered in divide"
     ]
    },
    {
     "name": "stdout",
     "output_type": "stream",
     "text": [
      "Objectives\n",
      "{'financese.lcoe': array([0.0334975])}\n",
      "\n",
      "Driver debug print for iter coord: rank0:ScipyOptimize_COBYLA|30\n",
      "----------------------------------------------------------------\n",
      "Design Vars\n",
      "{'angle_orientation': array([8.93680565]),\n",
      " 'angle_skew': array([3.06521408]),\n",
      " 'spacing_primary': array([10.28505436]),\n",
      " 'spacing_secondary': array([6.61850376])}\n",
      "\n"
     ]
    },
    {
     "name": "stderr",
     "output_type": "stream",
     "text": [
      "RuntimeWarning: /Users/cfrontin/miniforge3/envs/ard-dev-env/lib/python3.12/site-packages/floris/core/wake_deflection/gauss.py:328\n",
      "invalid value encountered in divideRuntimeWarning: /Users/cfrontin/miniforge3/envs/ard-dev-env/lib/python3.12/site-packages/floris/core/wake_deflection/gauss.py:163\n",
      "invalid value encountered in divideRuntimeWarning: /Users/cfrontin/miniforge3/envs/ard-dev-env/lib/python3.12/site-packages/floris/core/wake_velocity/gauss.py:80\n",
      "invalid value encountered in divide"
     ]
    },
    {
     "name": "stdout",
     "output_type": "stream",
     "text": [
      "Objectives\n",
      "{'financese.lcoe': array([0.03349397])}\n",
      "\n",
      "Driver debug print for iter coord: rank0:ScipyOptimize_COBYLA|31\n",
      "----------------------------------------------------------------\n",
      "Design Vars\n",
      "{'angle_orientation': array([8.93541161]),\n",
      " 'angle_skew': array([3.08299015]),\n",
      " 'spacing_primary': array([10.28137613]),\n",
      " 'spacing_secondary': array([6.62678257])}\n",
      "\n"
     ]
    },
    {
     "name": "stderr",
     "output_type": "stream",
     "text": [
      "RuntimeWarning: /Users/cfrontin/miniforge3/envs/ard-dev-env/lib/python3.12/site-packages/floris/core/wake_deflection/gauss.py:328\n",
      "invalid value encountered in divideRuntimeWarning: /Users/cfrontin/miniforge3/envs/ard-dev-env/lib/python3.12/site-packages/floris/core/wake_deflection/gauss.py:163\n",
      "invalid value encountered in divideRuntimeWarning: /Users/cfrontin/miniforge3/envs/ard-dev-env/lib/python3.12/site-packages/floris/core/wake_velocity/gauss.py:80\n",
      "invalid value encountered in divide"
     ]
    },
    {
     "name": "stdout",
     "output_type": "stream",
     "text": [
      "Objectives\n",
      "{'financese.lcoe': array([0.03349297])}\n",
      "\n",
      "Driver debug print for iter coord: rank0:ScipyOptimize_COBYLA|32\n",
      "----------------------------------------------------------------\n",
      "Design Vars\n",
      "{'angle_orientation': array([8.9414375]),\n",
      " 'angle_skew': array([3.09048798]),\n",
      " 'spacing_primary': array([10.27644142]),\n",
      " 'spacing_secondary': array([6.64360874])}\n",
      "\n"
     ]
    },
    {
     "name": "stderr",
     "output_type": "stream",
     "text": [
      "RuntimeWarning: /Users/cfrontin/miniforge3/envs/ard-dev-env/lib/python3.12/site-packages/floris/core/wake_deflection/gauss.py:328\n",
      "invalid value encountered in divideRuntimeWarning: /Users/cfrontin/miniforge3/envs/ard-dev-env/lib/python3.12/site-packages/floris/core/wake_deflection/gauss.py:163\n",
      "invalid value encountered in divideRuntimeWarning: /Users/cfrontin/miniforge3/envs/ard-dev-env/lib/python3.12/site-packages/floris/core/wake_velocity/gauss.py:80\n",
      "invalid value encountered in divide"
     ]
    },
    {
     "name": "stdout",
     "output_type": "stream",
     "text": [
      "Objectives\n",
      "{'financese.lcoe': array([0.03349228])}\n",
      "\n",
      "Driver debug print for iter coord: rank0:ScipyOptimize_COBYLA|33\n",
      "----------------------------------------------------------------\n",
      "Design Vars\n",
      "{'angle_orientation': array([8.94171468]),\n",
      " 'angle_skew': array([3.10878737]),\n",
      " 'spacing_primary': array([10.27276221]),\n",
      " 'spacing_secondary': array([6.65078641])}\n",
      "\n"
     ]
    },
    {
     "name": "stderr",
     "output_type": "stream",
     "text": [
      "RuntimeWarning: /Users/cfrontin/miniforge3/envs/ard-dev-env/lib/python3.12/site-packages/floris/core/wake_deflection/gauss.py:328\n",
      "invalid value encountered in divideRuntimeWarning: /Users/cfrontin/miniforge3/envs/ard-dev-env/lib/python3.12/site-packages/floris/core/wake_deflection/gauss.py:163\n",
      "invalid value encountered in divideRuntimeWarning: /Users/cfrontin/miniforge3/envs/ard-dev-env/lib/python3.12/site-packages/floris/core/wake_velocity/gauss.py:80\n",
      "invalid value encountered in divide"
     ]
    },
    {
     "name": "stdout",
     "output_type": "stream",
     "text": [
      "Objectives\n",
      "{'financese.lcoe': array([0.03349156])}\n",
      "\n",
      "Driver debug print for iter coord: rank0:ScipyOptimize_COBYLA|34\n",
      "----------------------------------------------------------------\n",
      "Design Vars\n",
      "{'angle_orientation': array([8.97150949]),\n",
      " 'angle_skew': array([3.13361962]),\n",
      " 'spacing_primary': array([10.26586472]),\n",
      " 'spacing_secondary': array([6.65771845])}\n",
      "\n"
     ]
    },
    {
     "name": "stderr",
     "output_type": "stream",
     "text": [
      "RuntimeWarning: /Users/cfrontin/miniforge3/envs/ard-dev-env/lib/python3.12/site-packages/floris/core/wake_deflection/gauss.py:328\n",
      "invalid value encountered in divideRuntimeWarning: /Users/cfrontin/miniforge3/envs/ard-dev-env/lib/python3.12/site-packages/floris/core/wake_deflection/gauss.py:163\n",
      "invalid value encountered in divideRuntimeWarning: /Users/cfrontin/miniforge3/envs/ard-dev-env/lib/python3.12/site-packages/floris/core/wake_velocity/gauss.py:80\n",
      "invalid value encountered in divide"
     ]
    },
    {
     "name": "stdout",
     "output_type": "stream",
     "text": [
      "Objectives\n",
      "{'financese.lcoe': array([0.03349054])}\n",
      "\n",
      "Driver debug print for iter coord: rank0:ScipyOptimize_COBYLA|35\n",
      "----------------------------------------------------------------\n",
      "Design Vars\n",
      "{'angle_orientation': array([8.97471229]),\n",
      " 'angle_skew': array([3.16240794]),\n",
      " 'spacing_primary': array([10.25667862]),\n",
      " 'spacing_secondary': array([6.68372979])}\n",
      "\n"
     ]
    },
    {
     "name": "stderr",
     "output_type": "stream",
     "text": [
      "RuntimeWarning: /Users/cfrontin/miniforge3/envs/ard-dev-env/lib/python3.12/site-packages/floris/core/wake_deflection/gauss.py:328\n",
      "invalid value encountered in divideRuntimeWarning: /Users/cfrontin/miniforge3/envs/ard-dev-env/lib/python3.12/site-packages/floris/core/wake_deflection/gauss.py:163\n",
      "invalid value encountered in divideRuntimeWarning: /Users/cfrontin/miniforge3/envs/ard-dev-env/lib/python3.12/site-packages/floris/core/wake_velocity/gauss.py:80\n",
      "invalid value encountered in divide"
     ]
    },
    {
     "name": "stdout",
     "output_type": "stream",
     "text": [
      "Objectives\n",
      "{'financese.lcoe': array([0.0334902])}\n",
      "\n",
      "Driver debug print for iter coord: rank0:ScipyOptimize_COBYLA|36\n",
      "----------------------------------------------------------------\n",
      "Design Vars\n",
      "{'angle_orientation': array([8.97294762]),\n",
      " 'angle_skew': array([3.19266705]),\n",
      " 'spacing_primary': array([10.25888031]),\n",
      " 'spacing_secondary': array([6.65772162])}\n",
      "\n"
     ]
    },
    {
     "name": "stderr",
     "output_type": "stream",
     "text": [
      "RuntimeWarning: /Users/cfrontin/miniforge3/envs/ard-dev-env/lib/python3.12/site-packages/floris/core/wake_deflection/gauss.py:328\n",
      "invalid value encountered in divideRuntimeWarning: /Users/cfrontin/miniforge3/envs/ard-dev-env/lib/python3.12/site-packages/floris/core/wake_deflection/gauss.py:163\n",
      "invalid value encountered in divideRuntimeWarning: /Users/cfrontin/miniforge3/envs/ard-dev-env/lib/python3.12/site-packages/floris/core/wake_velocity/gauss.py:80\n",
      "invalid value encountered in divide"
     ]
    },
    {
     "name": "stdout",
     "output_type": "stream",
     "text": [
      "Objectives\n",
      "{'financese.lcoe': array([0.03348846])}\n",
      "\n",
      "Driver debug print for iter coord: rank0:ScipyOptimize_COBYLA|37\n",
      "----------------------------------------------------------------\n",
      "Design Vars\n",
      "{'angle_orientation': array([8.98282721]),\n",
      " 'angle_skew': array([3.22341897]),\n",
      " 'spacing_primary': array([10.25938009]),\n",
      " 'spacing_secondary': array([6.63413215])}\n",
      "\n"
     ]
    },
    {
     "name": "stderr",
     "output_type": "stream",
     "text": [
      "RuntimeWarning: /Users/cfrontin/miniforge3/envs/ard-dev-env/lib/python3.12/site-packages/floris/core/wake_deflection/gauss.py:328\n",
      "invalid value encountered in divideRuntimeWarning: /Users/cfrontin/miniforge3/envs/ard-dev-env/lib/python3.12/site-packages/floris/core/wake_deflection/gauss.py:163\n",
      "invalid value encountered in divideRuntimeWarning: /Users/cfrontin/miniforge3/envs/ard-dev-env/lib/python3.12/site-packages/floris/core/wake_velocity/gauss.py:80\n",
      "invalid value encountered in divide"
     ]
    },
    {
     "name": "stdout",
     "output_type": "stream",
     "text": [
      "Objectives\n",
      "{'financese.lcoe': array([0.03348738])}\n",
      "\n",
      "Driver debug print for iter coord: rank0:ScipyOptimize_COBYLA|38\n",
      "----------------------------------------------------------------\n",
      "Design Vars\n",
      "{'angle_orientation': array([8.98743922]),\n",
      " 'angle_skew': array([3.26280778]),\n",
      " 'spacing_primary': array([10.2542312]),\n",
      " 'spacing_secondary': array([6.63499243])}\n",
      "\n"
     ]
    },
    {
     "name": "stderr",
     "output_type": "stream",
     "text": [
      "RuntimeWarning: /Users/cfrontin/miniforge3/envs/ard-dev-env/lib/python3.12/site-packages/floris/core/wake_deflection/gauss.py:328\n",
      "invalid value encountered in divideRuntimeWarning: /Users/cfrontin/miniforge3/envs/ard-dev-env/lib/python3.12/site-packages/floris/core/wake_deflection/gauss.py:163\n",
      "invalid value encountered in divideRuntimeWarning: /Users/cfrontin/miniforge3/envs/ard-dev-env/lib/python3.12/site-packages/floris/core/wake_velocity/gauss.py:80\n",
      "invalid value encountered in divide"
     ]
    },
    {
     "name": "stdout",
     "output_type": "stream",
     "text": [
      "Objectives\n",
      "{'financese.lcoe': array([0.03348601])}\n",
      "\n",
      "Driver debug print for iter coord: rank0:ScipyOptimize_COBYLA|39\n",
      "----------------------------------------------------------------\n",
      "Design Vars\n",
      "{'angle_orientation': array([9.00395892]),\n",
      " 'angle_skew': array([3.34033783]),\n",
      " 'spacing_primary': array([10.24352712]),\n",
      " 'spacing_secondary': array([6.63626258])}\n",
      "\n"
     ]
    },
    {
     "name": "stderr",
     "output_type": "stream",
     "text": [
      "RuntimeWarning: /Users/cfrontin/miniforge3/envs/ard-dev-env/lib/python3.12/site-packages/floris/core/wake_deflection/gauss.py:328\n",
      "invalid value encountered in divideRuntimeWarning: /Users/cfrontin/miniforge3/envs/ard-dev-env/lib/python3.12/site-packages/floris/core/wake_deflection/gauss.py:163\n",
      "invalid value encountered in divideRuntimeWarning: /Users/cfrontin/miniforge3/envs/ard-dev-env/lib/python3.12/site-packages/floris/core/wake_velocity/gauss.py:80\n",
      "invalid value encountered in divide"
     ]
    },
    {
     "name": "stdout",
     "output_type": "stream",
     "text": [
      "Objectives\n",
      "{'financese.lcoe': array([0.03348343])}\n",
      "\n",
      "Driver debug print for iter coord: rank0:ScipyOptimize_COBYLA|40\n",
      "----------------------------------------------------------------\n",
      "Design Vars\n",
      "{'angle_orientation': array([8.93612225]),\n",
      " 'angle_skew': array([3.48355345]),\n",
      " 'spacing_primary': array([10.23731751]),\n",
      " 'spacing_secondary': array([6.61507499])}\n",
      "\n"
     ]
    },
    {
     "name": "stderr",
     "output_type": "stream",
     "text": [
      "RuntimeWarning: /Users/cfrontin/miniforge3/envs/ard-dev-env/lib/python3.12/site-packages/floris/core/wake_deflection/gauss.py:328\n",
      "invalid value encountered in divideRuntimeWarning: /Users/cfrontin/miniforge3/envs/ard-dev-env/lib/python3.12/site-packages/floris/core/wake_deflection/gauss.py:163\n",
      "invalid value encountered in divideRuntimeWarning: /Users/cfrontin/miniforge3/envs/ard-dev-env/lib/python3.12/site-packages/floris/core/wake_velocity/gauss.py:80\n",
      "invalid value encountered in divide"
     ]
    },
    {
     "name": "stdout",
     "output_type": "stream",
     "text": [
      "Objectives\n",
      "{'financese.lcoe': array([0.03347882])}\n",
      "\n",
      "Driver debug print for iter coord: rank0:ScipyOptimize_COBYLA|41\n",
      "----------------------------------------------------------------\n",
      "Design Vars\n",
      "{'angle_orientation': array([8.95916329]),\n",
      " 'angle_skew': array([3.80019775]),\n",
      " 'spacing_primary': array([10.20307325]),\n",
      " 'spacing_secondary': array([6.5942704])}\n",
      "\n"
     ]
    },
    {
     "name": "stderr",
     "output_type": "stream",
     "text": [
      "RuntimeWarning: /Users/cfrontin/miniforge3/envs/ard-dev-env/lib/python3.12/site-packages/floris/core/wake_deflection/gauss.py:328\n",
      "invalid value encountered in divideRuntimeWarning: /Users/cfrontin/miniforge3/envs/ard-dev-env/lib/python3.12/site-packages/floris/core/wake_deflection/gauss.py:163\n",
      "invalid value encountered in divideRuntimeWarning: /Users/cfrontin/miniforge3/envs/ard-dev-env/lib/python3.12/site-packages/floris/core/wake_velocity/gauss.py:80\n",
      "invalid value encountered in divide"
     ]
    },
    {
     "name": "stdout",
     "output_type": "stream",
     "text": [
      "Objectives\n",
      "{'financese.lcoe': array([0.03346946])}\n",
      "\n",
      "Driver debug print for iter coord: rank0:ScipyOptimize_COBYLA|42\n",
      "----------------------------------------------------------------\n",
      "Design Vars\n",
      "{'angle_orientation': array([8.99875165]),\n",
      " 'angle_skew': array([4.10069548]),\n",
      " 'spacing_primary': array([10.27891273]),\n",
      " 'spacing_secondary': array([6.03571669])}\n",
      "\n"
     ]
    },
    {
     "name": "stderr",
     "output_type": "stream",
     "text": [
      "RuntimeWarning: /Users/cfrontin/miniforge3/envs/ard-dev-env/lib/python3.12/site-packages/floris/core/wake_deflection/gauss.py:328\n",
      "invalid value encountered in divideRuntimeWarning: /Users/cfrontin/miniforge3/envs/ard-dev-env/lib/python3.12/site-packages/floris/core/wake_deflection/gauss.py:163\n",
      "invalid value encountered in divideRuntimeWarning: /Users/cfrontin/miniforge3/envs/ard-dev-env/lib/python3.12/site-packages/floris/core/wake_velocity/gauss.py:80\n",
      "invalid value encountered in divide"
     ]
    },
    {
     "name": "stdout",
     "output_type": "stream",
     "text": [
      "Objectives\n",
      "{'financese.lcoe': array([0.0336019])}\n",
      "\n",
      "Driver debug print for iter coord: rank0:ScipyOptimize_COBYLA|43\n",
      "----------------------------------------------------------------\n",
      "Design Vars\n",
      "{'angle_orientation': array([8.89437289]),\n",
      " 'angle_skew': array([3.82860692]),\n",
      " 'spacing_primary': array([9.99398572]),\n",
      " 'spacing_secondary': array([6.82595451])}\n",
      "\n"
     ]
    },
    {
     "name": "stderr",
     "output_type": "stream",
     "text": [
      "RuntimeWarning: /Users/cfrontin/miniforge3/envs/ard-dev-env/lib/python3.12/site-packages/floris/core/wake_deflection/gauss.py:328\n",
      "invalid value encountered in divideRuntimeWarning: /Users/cfrontin/miniforge3/envs/ard-dev-env/lib/python3.12/site-packages/floris/core/wake_deflection/gauss.py:163\n",
      "invalid value encountered in divideRuntimeWarning: /Users/cfrontin/miniforge3/envs/ard-dev-env/lib/python3.12/site-packages/floris/core/wake_velocity/gauss.py:80\n",
      "invalid value encountered in divide"
     ]
    },
    {
     "name": "stdout",
     "output_type": "stream",
     "text": [
      "Objectives\n",
      "{'financese.lcoe': array([0.03354543])}\n",
      "\n",
      "Driver debug print for iter coord: rank0:ScipyOptimize_COBYLA|44\n",
      "----------------------------------------------------------------\n",
      "Design Vars\n",
      "{'angle_orientation': array([8.95835196]),\n",
      " 'angle_skew': array([3.8101481]),\n",
      " 'spacing_primary': array([10.26271389]),\n",
      " 'spacing_secondary': array([6.64664718])}\n",
      "\n"
     ]
    },
    {
     "name": "stderr",
     "output_type": "stream",
     "text": [
      "RuntimeWarning: /Users/cfrontin/miniforge3/envs/ard-dev-env/lib/python3.12/site-packages/floris/core/wake_deflection/gauss.py:328\n",
      "invalid value encountered in divideRuntimeWarning: /Users/cfrontin/miniforge3/envs/ard-dev-env/lib/python3.12/site-packages/floris/core/wake_deflection/gauss.py:163\n",
      "invalid value encountered in divideRuntimeWarning: /Users/cfrontin/miniforge3/envs/ard-dev-env/lib/python3.12/site-packages/floris/core/wake_velocity/gauss.py:80\n",
      "invalid value encountered in divide"
     ]
    },
    {
     "name": "stdout",
     "output_type": "stream",
     "text": [
      "Objectives\n",
      "{'financese.lcoe': array([0.03346738])}\n",
      "\n",
      "Driver debug print for iter coord: rank0:ScipyOptimize_COBYLA|45\n",
      "----------------------------------------------------------------\n",
      "Design Vars\n",
      "{'angle_orientation': array([8.98227427]),\n",
      " 'angle_skew': array([3.81532101]),\n",
      " 'spacing_primary': array([10.2341381]),\n",
      " 'spacing_secondary': array([6.43976427])}\n",
      "\n"
     ]
    },
    {
     "name": "stderr",
     "output_type": "stream",
     "text": [
      "RuntimeWarning: /Users/cfrontin/miniforge3/envs/ard-dev-env/lib/python3.12/site-packages/floris/core/wake_deflection/gauss.py:328\n",
      "invalid value encountered in divideRuntimeWarning: /Users/cfrontin/miniforge3/envs/ard-dev-env/lib/python3.12/site-packages/floris/core/wake_deflection/gauss.py:163\n",
      "invalid value encountered in divideRuntimeWarning: /Users/cfrontin/miniforge3/envs/ard-dev-env/lib/python3.12/site-packages/floris/core/wake_velocity/gauss.py:80\n",
      "invalid value encountered in divide"
     ]
    },
    {
     "name": "stdout",
     "output_type": "stream",
     "text": [
      "Objectives\n",
      "{'financese.lcoe': array([0.03348852])}\n",
      "\n",
      "Driver debug print for iter coord: rank0:ScipyOptimize_COBYLA|46\n",
      "----------------------------------------------------------------\n",
      "Design Vars\n",
      "{'angle_orientation': array([8.9197167]),\n",
      " 'angle_skew': array([3.80310252]),\n",
      " 'spacing_primary': array([10.20639718]),\n",
      " 'spacing_secondary': array([6.58932262])}\n",
      "\n"
     ]
    },
    {
     "name": "stderr",
     "output_type": "stream",
     "text": [
      "RuntimeWarning: /Users/cfrontin/miniforge3/envs/ard-dev-env/lib/python3.12/site-packages/floris/core/wake_deflection/gauss.py:328\n",
      "invalid value encountered in divideRuntimeWarning: /Users/cfrontin/miniforge3/envs/ard-dev-env/lib/python3.12/site-packages/floris/core/wake_deflection/gauss.py:163\n",
      "invalid value encountered in divideRuntimeWarning: /Users/cfrontin/miniforge3/envs/ard-dev-env/lib/python3.12/site-packages/floris/core/wake_velocity/gauss.py:80\n",
      "invalid value encountered in divide"
     ]
    },
    {
     "name": "stdout",
     "output_type": "stream",
     "text": [
      "Objectives\n",
      "{'financese.lcoe': array([0.03346921])}\n",
      "\n",
      "Driver debug print for iter coord: rank0:ScipyOptimize_COBYLA|47\n",
      "----------------------------------------------------------------\n",
      "Design Vars\n",
      "{'angle_orientation': array([8.90574977]),\n",
      " 'angle_skew': array([3.82174101]),\n",
      " 'spacing_primary': array([10.16655647]),\n",
      " 'spacing_secondary': array([6.65466976])}\n",
      "\n"
     ]
    },
    {
     "name": "stderr",
     "output_type": "stream",
     "text": [
      "RuntimeWarning: /Users/cfrontin/miniforge3/envs/ard-dev-env/lib/python3.12/site-packages/floris/core/wake_deflection/gauss.py:328\n",
      "invalid value encountered in divideRuntimeWarning: /Users/cfrontin/miniforge3/envs/ard-dev-env/lib/python3.12/site-packages/floris/core/wake_deflection/gauss.py:163\n",
      "invalid value encountered in divideRuntimeWarning: /Users/cfrontin/miniforge3/envs/ard-dev-env/lib/python3.12/site-packages/floris/core/wake_velocity/gauss.py:80\n",
      "invalid value encountered in divide"
     ]
    },
    {
     "name": "stdout",
     "output_type": "stream",
     "text": [
      "Objectives\n",
      "{'financese.lcoe': array([0.03347065])}\n",
      "\n",
      "Driver debug print for iter coord: rank0:ScipyOptimize_COBYLA|48\n",
      "----------------------------------------------------------------\n",
      "Design Vars\n",
      "{'angle_orientation': array([8.92178396]),\n",
      " 'angle_skew': array([3.82244471]),\n",
      " 'spacing_primary': array([10.20721649]),\n",
      " 'spacing_secondary': array([6.58474715])}\n",
      "\n"
     ]
    },
    {
     "name": "stderr",
     "output_type": "stream",
     "text": [
      "RuntimeWarning: /Users/cfrontin/miniforge3/envs/ard-dev-env/lib/python3.12/site-packages/floris/core/wake_deflection/gauss.py:328\n",
      "invalid value encountered in divideRuntimeWarning: /Users/cfrontin/miniforge3/envs/ard-dev-env/lib/python3.12/site-packages/floris/core/wake_deflection/gauss.py:163\n",
      "invalid value encountered in divideRuntimeWarning: /Users/cfrontin/miniforge3/envs/ard-dev-env/lib/python3.12/site-packages/floris/core/wake_velocity/gauss.py:80\n",
      "invalid value encountered in divide"
     ]
    },
    {
     "name": "stdout",
     "output_type": "stream",
     "text": [
      "Objectives\n",
      "{'financese.lcoe': array([0.03346877])}\n",
      "\n",
      "Driver debug print for iter coord: rank0:ScipyOptimize_COBYLA|49\n",
      "----------------------------------------------------------------\n",
      "Design Vars\n",
      "{'angle_orientation': array([8.91405197]),\n",
      " 'angle_skew': array([3.85212766]),\n",
      " 'spacing_primary': array([10.20908038]),\n",
      " 'spacing_secondary': array([6.5591412])}\n",
      "\n"
     ]
    },
    {
     "name": "stderr",
     "output_type": "stream",
     "text": [
      "RuntimeWarning: /Users/cfrontin/miniforge3/envs/ard-dev-env/lib/python3.12/site-packages/floris/core/wake_deflection/gauss.py:328\n",
      "invalid value encountered in divideRuntimeWarning: /Users/cfrontin/miniforge3/envs/ard-dev-env/lib/python3.12/site-packages/floris/core/wake_deflection/gauss.py:163\n",
      "invalid value encountered in divideRuntimeWarning: /Users/cfrontin/miniforge3/envs/ard-dev-env/lib/python3.12/site-packages/floris/core/wake_velocity/gauss.py:80\n",
      "invalid value encountered in divide"
     ]
    },
    {
     "name": "stdout",
     "output_type": "stream",
     "text": [
      "Objectives\n",
      "{'financese.lcoe': array([0.03346911])}\n",
      "\n",
      "Driver debug print for iter coord: rank0:ScipyOptimize_COBYLA|50\n",
      "----------------------------------------------------------------\n",
      "Design Vars\n",
      "{'angle_orientation': array([8.92096623]),\n",
      " 'angle_skew': array([3.82299027]),\n",
      " 'spacing_primary': array([10.19726613]),\n",
      " 'spacing_secondary': array([6.58490219])}\n",
      "\n"
     ]
    },
    {
     "name": "stderr",
     "output_type": "stream",
     "text": [
      "RuntimeWarning: /Users/cfrontin/miniforge3/envs/ard-dev-env/lib/python3.12/site-packages/floris/core/wake_deflection/gauss.py:328\n",
      "invalid value encountered in divideRuntimeWarning: /Users/cfrontin/miniforge3/envs/ard-dev-env/lib/python3.12/site-packages/floris/core/wake_deflection/gauss.py:163\n",
      "invalid value encountered in divideRuntimeWarning: /Users/cfrontin/miniforge3/envs/ard-dev-env/lib/python3.12/site-packages/floris/core/wake_velocity/gauss.py:80\n",
      "invalid value encountered in divide"
     ]
    },
    {
     "name": "stdout",
     "output_type": "stream",
     "text": [
      "Objectives\n",
      "{'financese.lcoe': array([0.03346879])}\n",
      "\n",
      "Return from COBYLA because the objective function has been evaluated MAXFUN times.\n",
      "Number of function values = 50   Least value of F = 0.03346878666309313   Constraint violation = 0.0\n",
      "The corresponding X is:\n",
      "[10.19726613  6.58490219  8.92096623  3.82299027]\n",
      "The constraint value is:\n",
      "[-7.19726613e+00 -3.58490219e+00 -1.88920966e+02 -4.88229903e+01\n",
      " -9.80273387e+00 -1.34150978e+01 -1.71079034e+02 -4.11770097e+01\n",
      " -2.46831711e-01 -2.24161401e+00 -2.65275439e+00 -1.90045167e+00\n",
      " -4.53271484e-03 -1.14008252e+00 -3.30539637e+00 -4.32637720e+00\n",
      " -3.00226636e+00 -3.83049316e-01 -7.61565918e-01 -3.38078296e+00\n",
      " -5.99999604e+00 -3.38078296e+00 -7.61565918e-01 -3.83049316e-01\n",
      " -3.00226636e+00 -4.32637720e+00 -3.30539637e+00 -1.14008252e+00\n",
      " -4.53271484e-03 -1.90045167e+00 -2.65275439e+00 -2.24161401e+00\n",
      " -2.46831711e-01 -7.73644597e-01 -2.09928919e+00 -3.42493379e+00\n",
      " -4.75057839e+00 -3.05946391e-01 -9.78275808e-01 -2.17968140e+00\n",
      " -3.46011786e+00 -4.76276842e+00 -1.16389278e+00 -1.54521208e+00\n",
      " -2.50855162e+00 -3.67296403e+00 -4.91136280e+00 -2.02183917e+00\n",
      " -2.26349232e+00 -3.01787579e+00 -4.03882742e+00 -5.18577369e+00\n",
      " -2.87978557e+00 -3.04353049e+00 -3.64242417e+00 -4.52473279e+00\n",
      " -5.56910323e+00 -7.73644597e-01 -2.09928919e+00 -3.42493379e+00\n",
      " -1.07436625e+00 -3.05946391e-01 -9.78275808e-01 -2.17968140e+00\n",
      " -3.46011786e+00 -1.68517339e+00 -1.16389278e+00 -1.54521208e+00\n",
      " -2.50855162e+00 -3.67296403e+00 -2.42070355e+00 -2.02183917e+00\n",
      " -2.26349232e+00 -3.01787579e+00 -4.03882742e+00 -3.20846965e+00\n",
      " -2.87978557e+00 -3.04353049e+00 -3.64242417e+00 -4.52473279e+00\n",
      " -7.73644597e-01 -2.09928919e+00 -2.28855092e+00 -1.07436625e+00\n",
      " -3.05946391e-01 -9.78275808e-01 -2.17968140e+00 -2.70073249e+00\n",
      " -1.68517339e+00 -1.16389278e+00 -1.54521208e+00 -2.50855162e+00\n",
      " -3.26427460e+00 -2.42070355e+00 -2.02183917e+00 -2.26349232e+00\n",
      " -3.01787579e+00 -3.92234677e+00 -3.20846965e+00 -2.87978557e+00\n",
      " -3.04353049e+00 -3.64242417e+00 -7.73644597e-01 -3.57196157e+00\n",
      " -2.28855092e+00 -1.07436625e+00 -3.05946391e-01 -9.78275808e-01\n",
      " -3.88311666e+00 -2.70073249e+00 -1.68517339e+00 -1.16389278e+00\n",
      " -1.54521208e+00 -4.32709874e+00 -3.26427460e+00 -2.42070355e+00\n",
      " -2.02183917e+00 -2.26349232e+00 -4.87138393e+00 -3.92234677e+00\n",
      " -3.20846965e+00 -2.87978557e+00 -3.04353049e+00 -4.87571184e+00\n",
      " -3.57196157e+00 -2.28855092e+00 -1.07436625e+00 -3.05946391e-01\n",
      " -5.12910184e+00 -3.88311666e+00 -2.70073249e+00 -1.68517339e+00\n",
      " -1.16389278e+00 -5.49464571e+00 -4.32709874e+00 -3.26427460e+00\n",
      " -2.42070355e+00 -2.02183917e+00 -5.95346498e+00 -4.87138393e+00\n",
      " -3.92234677e+00 -3.20846965e+00 -2.87978557e+00 -7.73644597e-01\n",
      " -2.09928919e+00 -3.42493379e+00 -4.75057839e+00 -3.05946391e-01\n",
      " -9.78275808e-01 -2.17968140e+00 -3.46011786e+00 -4.76276842e+00\n",
      " -1.16389278e+00 -1.54521208e+00 -2.50855162e+00 -3.67296403e+00\n",
      " -4.91136280e+00 -2.02183917e+00 -2.26349232e+00 -3.01787579e+00\n",
      " -4.03882742e+00 -5.18577369e+00 -7.73644597e-01 -2.09928919e+00\n",
      " -3.42493379e+00 -1.07436625e+00 -3.05946391e-01 -9.78275808e-01\n",
      " -2.17968140e+00 -3.46011786e+00 -1.68517339e+00 -1.16389278e+00\n",
      " -1.54521208e+00 -2.50855162e+00 -3.67296403e+00 -2.42070355e+00\n",
      " -2.02183917e+00 -2.26349232e+00 -3.01787579e+00 -4.03882742e+00\n",
      " -7.73644597e-01 -2.09928919e+00 -2.28855092e+00 -1.07436625e+00\n",
      " -3.05946391e-01 -9.78275808e-01 -2.17968140e+00 -2.70073249e+00\n",
      " -1.68517339e+00 -1.16389278e+00 -1.54521208e+00 -2.50855162e+00\n",
      " -3.26427460e+00 -2.42070355e+00 -2.02183917e+00 -2.26349232e+00\n",
      " -3.01787579e+00 -7.73644597e-01 -3.57196157e+00 -2.28855092e+00\n",
      " -1.07436625e+00 -3.05946391e-01 -9.78275808e-01 -3.88311666e+00\n",
      " -2.70073249e+00 -1.68517339e+00 -1.16389278e+00 -1.54521208e+00\n",
      " -4.32709874e+00 -3.26427460e+00 -2.42070355e+00 -2.02183917e+00\n",
      " -2.26349232e+00 -4.87571184e+00 -3.57196157e+00 -2.28855092e+00\n",
      " -1.07436625e+00 -3.05946391e-01 -5.12910184e+00 -3.88311666e+00\n",
      " -2.70073249e+00 -1.68517339e+00 -1.16389278e+00 -5.49464571e+00\n",
      " -4.32709874e+00 -3.26427460e+00 -2.42070355e+00 -2.02183917e+00\n",
      " -7.73644597e-01 -2.09928919e+00 -3.42493379e+00 -4.75057839e+00\n",
      " -3.05946391e-01 -9.78275808e-01 -2.17968140e+00 -3.46011786e+00\n",
      " -4.76276842e+00 -1.16389278e+00 -1.54521208e+00 -2.50855162e+00\n",
      " -3.67296403e+00 -4.91136280e+00 -7.73644597e-01 -2.09928919e+00\n",
      " -3.42493379e+00 -1.07436625e+00 -3.05946391e-01 -9.78275808e-01\n",
      " -2.17968140e+00 -3.46011786e+00 -1.68517339e+00 -1.16389278e+00\n",
      " -1.54521208e+00 -2.50855162e+00 -3.67296403e+00 -7.73644597e-01\n",
      " -2.09928919e+00 -2.28855092e+00 -1.07436625e+00 -3.05946391e-01\n",
      " -9.78275808e-01 -2.17968140e+00 -2.70073249e+00 -1.68517339e+00\n",
      " -1.16389278e+00 -1.54521208e+00 -2.50855162e+00 -7.73644597e-01\n",
      " -3.57196157e+00 -2.28855092e+00 -1.07436625e+00 -3.05946391e-01\n",
      " -9.78275808e-01 -3.88311666e+00 -2.70073249e+00 -1.68517339e+00\n",
      " -1.16389278e+00 -1.54521208e+00 -4.87571184e+00 -3.57196157e+00\n",
      " -2.28855092e+00 -1.07436625e+00 -3.05946391e-01 -5.12910184e+00\n",
      " -3.88311666e+00 -2.70073249e+00 -1.68517339e+00 -1.16389278e+00\n",
      " -7.73644597e-01 -2.09928919e+00 -3.42493379e+00 -4.75057839e+00\n",
      " -3.05946391e-01 -9.78275808e-01 -2.17968140e+00 -3.46011786e+00\n",
      " -4.76276842e+00 -7.73644597e-01 -2.09928919e+00 -3.42493379e+00\n",
      " -1.07436625e+00 -3.05946391e-01 -9.78275808e-01 -2.17968140e+00\n",
      " -3.46011786e+00 -7.73644597e-01 -2.09928919e+00 -2.28855092e+00\n",
      " -1.07436625e+00 -3.05946391e-01 -9.78275808e-01 -2.17968140e+00\n",
      " -7.73644597e-01 -3.57196157e+00 -2.28855092e+00 -1.07436625e+00\n",
      " -3.05946391e-01 -9.78275808e-01 -4.87571184e+00 -3.57196157e+00\n",
      " -2.28855092e+00 -1.07436625e+00 -3.05946391e-01 -7.73644597e-01\n",
      " -2.09928919e+00 -3.42493379e+00 -4.75057839e+00 -7.73644597e-01\n",
      " -2.09928919e+00 -3.42493379e+00 -7.73644597e-01 -2.09928919e+00\n",
      " -7.73644597e-01]\n",
      "\n",
      "Optimization FAILED.\n",
      "Return from COBYLA because the objective function has been evaluated MAXFUN times.\n",
      "-----------------------------------\n",
      "\n",
      "\n",
      "RESULTS (opt):\n",
      "\n",
      "{'AEP_val': 453.31177490509094,\n",
      " 'BOS_val': 41.923934482221036,\n",
      " 'CapEx_val': 110.5,\n",
      " 'LCOE_val': 33.46878666309313,\n",
      " 'OpEx_val': 3.7400000000000007,\n",
      " 'area_tight': 18.15681922585348,\n",
      " 'coll_length': 23.423806992035267,\n",
      " 'turbine_spacing': 0.8579463914778505}\n",
      "\n",
      "\n",
      "\n"
     ]
    }
   ],
   "source": [
    "optimize = True  # set to False to skip optimization\n",
    "if optimize:\n",
    "    # run the optimization\n",
    "    prob.run_driver()\n",
    "    prob.cleanup()\n",
    "\n",
    "    # collapse the test result data\n",
    "    test_data = {\n",
    "        \"AEP_val\": float(prob.get_val(\"AEP_farm\", units=\"GW*h\")[0]),\n",
    "        \"CapEx_val\": float(prob.get_val(\"tcc.tcc\", units=\"MUSD\")[0]),\n",
    "        \"BOS_val\": float(prob.get_val(\"landbosse.total_capex\", units=\"MUSD\")[0]),\n",
    "        \"OpEx_val\": float(prob.get_val(\"opex.opex\", units=\"MUSD/yr\")[0]),\n",
    "        \"LCOE_val\": float(prob.get_val(\"financese.lcoe\", units=\"USD/MW/h\")[0]),\n",
    "        \"area_tight\": float(prob.get_val(\"landuse.area_tight\", units=\"km**2\")[0]),\n",
    "        \"coll_length\": float(\n",
    "            prob.get_val(\"collection.total_length_cables\", units=\"km\")[0]\n",
    "        ),\n",
    "        \"turbine_spacing\": float(\n",
    "            np.min(prob.get_val(\"spacing_constraint.turbine_spacing\", units=\"km\"))\n",
    "        ),\n",
    "    }\n",
    "\n",
    "    # clean up the recorder\n",
    "    prob.cleanup()\n",
    "\n",
    "    # print the results\n",
    "    print(\"\\n\\nRESULTS (opt):\\n\")\n",
    "    pp.pprint(test_data)\n",
    "    print(\"\\n\\n\")"
   ]
  },
  {
   "cell_type": "code",
   "execution_count": 6,
   "id": "f93a46df",
   "metadata": {},
   "outputs": [
    {
     "data": {
      "image/png": "[encoded data removed]",
      "text/plain": [
       "<Figure size 640x480 with 1 Axes>"
      ]
     },
     "metadata": {},
     "output_type": "display_data"
    }
   ],
   "source": [
    "plot_layout(\n",
    "    prob,\n",
    "    input_dict=input_dict,\n",
    "    show_image=True,\n",
    "    include_cable_routing=True,\n",
    ")\n",
    "plt.show()"
   ]
  },
  {
   "cell_type": "markdown",
   "id": "d5fb8cca",
   "metadata": {},
   "source": [
    "The result: a farm that fits in a stop-sign domain and minimzes the LCOE."
   ]
  }
 ],
 "metadata": {
  "kernelspec": {
   "display_name": "ard-dev-env",
   "language": "python",
   "name": "python3"
  },
  "language_info": {
   "codemirror_mode": {
    "name": "ipython",
    "version": 3
   },
   "file_extension": ".py",
   "mimetype": "text/x-python",
   "name": "python",
   "nbconvert_exporter": "python",
   "pygments_lexer": "ipython3",
   "version": "3.12.11"
  }
 },
 "nbformat": 4,
 "nbformat_minor": 5
}
