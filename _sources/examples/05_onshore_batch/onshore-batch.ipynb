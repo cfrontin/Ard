{
 "cells": [
  {
   "cell_type": "code",
   "execution_count": null,
   "id": "98cc91ee",
   "metadata": {},
   "outputs": [],
   "source": [
    "import pprint as pp\n",
    "\n",
    "import numpy as np\n",
    "import matplotlib.pyplot as plt\n",
    "\n",
    "from ard.utils.io import load_yaml\n",
    "from ard.api import set_up_ard_model\n",
    "from ard.viz.layout import plot_layout\n",
    "import openmdao.api as om"
   ]
  },
  {
   "cell_type": "code",
   "execution_count": null,
   "id": "1cc86452",
   "metadata": {},
   "outputs": [],
   "source": [
    "# load input\n",
    "input_dict = load_yaml(\"./inputs/ard_system.yaml\")\n",
    "\n",
    "# set up system\n",
    "prob = set_up_ard_model(input_dict=input_dict, root_data_path=\"inputs\")\n",
    "\n",
    "if False:\n",
    "    # visualize model\n",
    "    om.n2(prob)\n",
    "\n",
    "# run the model\n",
    "prob.run_model()\n",
    "\n",
    "# collapse the test result data\n",
    "test_data = {\n",
    "    \"AEP_val\": float(prob.get_val(\"AEP_farm\", units=\"GW*h\")[0]),\n",
    "    \"CapEx_val\": float(prob.get_val(\"tcc.tcc\", units=\"MUSD\")[0]),\n",
    "    \"BOS_val\": float(prob.get_val(\"landbosse.total_capex\", units=\"MUSD\")[0]),\n",
    "    \"OpEx_val\": float(prob.get_val(\"opex.opex\", units=\"MUSD/yr\")[0]),\n",
    "    \"LCOE_val\": float(prob.get_val(\"financese.lcoe\", units=\"USD/MW/h\")[0]),\n",
    "    \"area_tight\": float(prob.get_val(\"landuse.area_tight\", units=\"km**2\")[0]),\n",
    "    \"coll_length\": float(prob.get_val(\"total_length_cables\", units=\"km\")[0]),\n",
    "    \"turbine_spacing\": float(\n",
    "        np.min(prob.get_val(\"spacing_constraint.turbine_spacing\", units=\"km\"))\n",
    "    ),\n",
    "}\n",
    "\n",
    "print(\"\\n\\nRESULTS:\\n\")\n",
    "pp.pprint(test_data)\n",
    "print(\"\\n\\n\")\n",
    "plot_layout(prob, input_dict=input_dict, show_image=True, include_cable_routing=True)"
   ]
  },
  {
   "cell_type": "code",
   "execution_count": null,
   "id": "b174d519",
   "metadata": {},
   "outputs": [],
   "source": [
    "optimize = False  # set to False to skip optimization\n",
    "\n",
    "if optimize:\n",
    "\n",
    "    # run the optimization\n",
    "    prob.run_driver()\n",
    "    prob.cleanup()\n",
    "\n",
    "    # collapse the test result data\n",
    "    test_data = {\n",
    "        \"AEP_val\": float(prob.get_val(\"AEP_farm\", units=\"GW*h\")[0]),\n",
    "        \"CapEx_val\": float(prob.get_val(\"tcc.tcc\", units=\"MUSD\")[0]),\n",
    "        \"BOS_val\": float(prob.get_val(\"landbosse.total_capex\", units=\"MUSD\")[0]),\n",
    "        \"OpEx_val\": float(prob.get_val(\"opex.opex\", units=\"MUSD/yr\")[0]),\n",
    "        \"LCOE_val\": float(prob.get_val(\"financese.lcoe\", units=\"USD/MW/h\")[0]),\n",
    "        \"area_tight\": float(prob.get_val(\"landuse.area_tight\", units=\"km**2\")[0]),\n",
    "        \"coll_length\": float(prob.get_val(\"total_length_cables\", units=\"km\")[0]),\n",
    "        \"turbine_spacing\": float(\n",
    "            np.min(prob.get_val(\"spacing_constraint.turbine_spacing\", units=\"km\"))\n",
    "        ),\n",
    "    }\n",
    "\n",
    "    # clean up the recorder\n",
    "    prob.cleanup()\n",
    "\n",
    "    # print the results\n",
    "    print(\"\\n\\nRESULTS (opt):\\n\")\n",
    "    pp.pprint(test_data)\n",
    "    print(\"\\n\\n\")\n",
    "\n",
    "    plot_layout(\n",
    "        prob, input_dict=input_dict, show_image=True, include_cable_routing=True\n",
    "    )"
   ]
  },
  {
   "cell_type": "markdown",
   "id": "b27197b7",
   "metadata": {},
   "source": []
  }
 ],
 "metadata": {
  "language_info": {
   "name": "python"
  }
 },
 "nbformat": 4,
 "nbformat_minor": 5
}
